{
 "cells": [
  {
   "cell_type": "code",
   "execution_count": 1,
   "id": "f34a2f49",
   "metadata": {},
   "outputs": [],
   "source": [
    "import polars as pl"
   ]
  },
  {
   "cell_type": "markdown",
   "id": "967bae03",
   "metadata": {},
   "source": [
    "## ERA Across Leagues"
   ]
  },
  {
   "cell_type": "code",
   "execution_count": 6,
   "id": "139aaeed",
   "metadata": {},
   "outputs": [
    {
     "name": "stderr",
     "output_type": "stream",
     "text": [
      "<>:1: SyntaxWarning: invalid escape sequence '\\d'\n",
      "<>:1: SyntaxWarning: invalid escape sequence '\\d'\n",
      "C:\\Users\\cv0437li\\AppData\\Local\\Temp\\ipykernel_18720\\4079930422.py:1: SyntaxWarning: invalid escape sequence '\\d'\n",
      "  pitching = pl.read_csv('.\\data\\lahman_1871-2024_csv\\Pitching.csv')\n"
     ]
    }
   ],
   "source": [
    "pitching = pl.read_csv('.\\data\\lahman_1871-2024_csv\\Pitching.csv')"
   ]
  },
  {
   "cell_type": "code",
   "execution_count": 7,
   "id": "0ed24182",
   "metadata": {},
   "outputs": [
    {
     "data": {
      "text/html": [
       "<div><style>\n",
       ".dataframe > thead > tr,\n",
       ".dataframe > tbody > tr {\n",
       "  text-align: right;\n",
       "  white-space: pre-wrap;\n",
       "}\n",
       "</style>\n",
       "<small>shape: (6, 30)</small><table border=\"1\" class=\"dataframe\"><thead><tr><th>playerID</th><th>yearID</th><th>stint</th><th>teamID</th><th>lgID</th><th>W</th><th>L</th><th>G</th><th>GS</th><th>CG</th><th>SHO</th><th>SV</th><th>IPouts</th><th>H</th><th>ER</th><th>HR</th><th>BB</th><th>SO</th><th>BAOpp</th><th>ERA</th><th>IBB</th><th>WP</th><th>HBP</th><th>BK</th><th>BFP</th><th>GF</th><th>R</th><th>SH</th><th>SF</th><th>GIDP</th></tr><tr><td>str</td><td>i64</td><td>i64</td><td>str</td><td>str</td><td>i64</td><td>i64</td><td>i64</td><td>i64</td><td>i64</td><td>i64</td><td>i64</td><td>i64</td><td>i64</td><td>i64</td><td>i64</td><td>i64</td><td>i64</td><td>f64</td><td>f64</td><td>i64</td><td>i64</td><td>i64</td><td>i64</td><td>i64</td><td>i64</td><td>i64</td><td>i64</td><td>i64</td><td>i64</td></tr></thead><tbody><tr><td>&quot;aardsda01&quot;</td><td>2004</td><td>1</td><td>&quot;SFN&quot;</td><td>&quot;NL&quot;</td><td>1</td><td>0</td><td>11</td><td>0</td><td>0</td><td>0</td><td>0</td><td>32</td><td>20</td><td>8</td><td>1</td><td>10</td><td>5</td><td>0.417</td><td>6.75</td><td>0</td><td>0</td><td>2</td><td>0</td><td>61</td><td>5</td><td>8</td><td>0</td><td>1</td><td>1</td></tr><tr><td>&quot;aardsda01&quot;</td><td>2006</td><td>1</td><td>&quot;CHN&quot;</td><td>&quot;NL&quot;</td><td>3</td><td>0</td><td>45</td><td>0</td><td>0</td><td>0</td><td>0</td><td>159</td><td>41</td><td>24</td><td>9</td><td>28</td><td>49</td><td>0.214</td><td>4.08</td><td>0</td><td>1</td><td>1</td><td>0</td><td>225</td><td>9</td><td>25</td><td>1</td><td>3</td><td>2</td></tr><tr><td>&quot;aardsda01&quot;</td><td>2007</td><td>1</td><td>&quot;CHA&quot;</td><td>&quot;AL&quot;</td><td>2</td><td>1</td><td>25</td><td>0</td><td>0</td><td>0</td><td>0</td><td>97</td><td>39</td><td>23</td><td>4</td><td>17</td><td>36</td><td>0.3</td><td>6.4</td><td>3</td><td>2</td><td>1</td><td>0</td><td>151</td><td>7</td><td>24</td><td>2</td><td>1</td><td>1</td></tr><tr><td>&quot;aardsda01&quot;</td><td>2008</td><td>1</td><td>&quot;BOS&quot;</td><td>&quot;AL&quot;</td><td>4</td><td>2</td><td>47</td><td>0</td><td>0</td><td>0</td><td>0</td><td>146</td><td>49</td><td>30</td><td>4</td><td>35</td><td>49</td><td>0.268</td><td>5.55</td><td>2</td><td>3</td><td>5</td><td>0</td><td>228</td><td>7</td><td>32</td><td>3</td><td>2</td><td>4</td></tr><tr><td>&quot;aardsda01&quot;</td><td>2009</td><td>1</td><td>&quot;SEA&quot;</td><td>&quot;AL&quot;</td><td>3</td><td>6</td><td>73</td><td>0</td><td>0</td><td>0</td><td>38</td><td>214</td><td>49</td><td>20</td><td>4</td><td>34</td><td>80</td><td>0.19</td><td>2.52</td><td>3</td><td>2</td><td>0</td><td>0</td><td>296</td><td>53</td><td>23</td><td>2</td><td>1</td><td>2</td></tr><tr><td>&quot;aardsda01&quot;</td><td>2010</td><td>1</td><td>&quot;SEA&quot;</td><td>&quot;AL&quot;</td><td>0</td><td>6</td><td>53</td><td>0</td><td>0</td><td>0</td><td>31</td><td>149</td><td>33</td><td>19</td><td>5</td><td>25</td><td>49</td><td>0.198</td><td>3.44</td><td>5</td><td>2</td><td>2</td><td>0</td><td>202</td><td>43</td><td>19</td><td>7</td><td>1</td><td>5</td></tr></tbody></table></div>"
      ],
      "text/plain": [
       "shape: (6, 30)\n",
       "┌───────────┬────────┬───────┬────────┬───┬─────┬─────┬─────┬──────┐\n",
       "│ playerID  ┆ yearID ┆ stint ┆ teamID ┆ … ┆ R   ┆ SH  ┆ SF  ┆ GIDP │\n",
       "│ ---       ┆ ---    ┆ ---   ┆ ---    ┆   ┆ --- ┆ --- ┆ --- ┆ ---  │\n",
       "│ str       ┆ i64    ┆ i64   ┆ str    ┆   ┆ i64 ┆ i64 ┆ i64 ┆ i64  │\n",
       "╞═══════════╪════════╪═══════╪════════╪═══╪═════╪═════╪═════╪══════╡\n",
       "│ aardsda01 ┆ 2004   ┆ 1     ┆ SFN    ┆ … ┆ 8   ┆ 0   ┆ 1   ┆ 1    │\n",
       "│ aardsda01 ┆ 2006   ┆ 1     ┆ CHN    ┆ … ┆ 25  ┆ 1   ┆ 3   ┆ 2    │\n",
       "│ aardsda01 ┆ 2007   ┆ 1     ┆ CHA    ┆ … ┆ 24  ┆ 2   ┆ 1   ┆ 1    │\n",
       "│ aardsda01 ┆ 2008   ┆ 1     ┆ BOS    ┆ … ┆ 32  ┆ 3   ┆ 2   ┆ 4    │\n",
       "│ aardsda01 ┆ 2009   ┆ 1     ┆ SEA    ┆ … ┆ 23  ┆ 2   ┆ 1   ┆ 2    │\n",
       "│ aardsda01 ┆ 2010   ┆ 1     ┆ SEA    ┆ … ┆ 19  ┆ 7   ┆ 1   ┆ 5    │\n",
       "└───────────┴────────┴───────┴────────┴───┴─────┴─────┴─────┴──────┘"
      ]
     },
     "execution_count": 7,
     "metadata": {},
     "output_type": "execute_result"
    }
   ],
   "source": [
    "pitching.head(6)"
   ]
  },
  {
   "cell_type": "code",
   "execution_count": 53,
   "id": "7c01cc6e",
   "metadata": {},
   "outputs": [
    {
     "data": {
      "text/html": [
       "<div><style>\n",
       ".dataframe > thead > tr,\n",
       ".dataframe > tbody > tr {\n",
       "  text-align: right;\n",
       "  white-space: pre-wrap;\n",
       "}\n",
       "</style>\n",
       "<small>shape: (5, 6)</small><table border=\"1\" class=\"dataframe\"><thead><tr><th>yearID</th><th>lgID</th><th>runs</th><th>outs</th><th>era</th><th>dh_rule</th></tr><tr><td>i64</td><td>str</td><td>i64</td><td>i64</td><td>f64</td><td>str</td></tr></thead><tbody><tr><td>1980</td><td>&quot;NL&quot;</td><td>7852</td><td>52589</td><td>4.031337</td><td>&quot;No&quot;</td></tr><tr><td>1971</td><td>&quot;AL&quot;</td><td>7472</td><td>51874</td><td>3.889116</td><td>&quot;No&quot;</td></tr><tr><td>1984</td><td>&quot;NL&quot;</td><td>7894</td><td>52274</td><td>4.077323</td><td>&quot;No&quot;</td></tr><tr><td>2001</td><td>&quot;NL&quot;</td><td>12186</td><td>69223</td><td>4.753073</td><td>&quot;No&quot;</td></tr><tr><td>1962</td><td>&quot;NL&quot;</td><td>7278</td><td>43470</td><td>4.520497</td><td>&quot;No&quot;</td></tr></tbody></table></div>"
      ],
      "text/plain": [
       "shape: (5, 6)\n",
       "┌────────┬──────┬───────┬───────┬──────────┬─────────┐\n",
       "│ yearID ┆ lgID ┆ runs  ┆ outs  ┆ era      ┆ dh_rule │\n",
       "│ ---    ┆ ---  ┆ ---   ┆ ---   ┆ ---      ┆ ---     │\n",
       "│ i64    ┆ str  ┆ i64   ┆ i64   ┆ f64      ┆ str     │\n",
       "╞════════╪══════╪═══════╪═══════╪══════════╪═════════╡\n",
       "│ 1980   ┆ NL   ┆ 7852  ┆ 52589 ┆ 4.031337 ┆ No      │\n",
       "│ 1971   ┆ AL   ┆ 7472  ┆ 51874 ┆ 3.889116 ┆ No      │\n",
       "│ 1984   ┆ NL   ┆ 7894  ┆ 52274 ┆ 4.077323 ┆ No      │\n",
       "│ 2001   ┆ NL   ┆ 12186 ┆ 69223 ┆ 4.753073 ┆ No      │\n",
       "│ 1962   ┆ NL   ┆ 7278  ┆ 43470 ┆ 4.520497 ┆ No      │\n",
       "└────────┴──────┴───────┴───────┴──────────┴─────────┘"
      ]
     },
     "execution_count": 53,
     "metadata": {},
     "output_type": "execute_result"
    }
   ],
   "source": [
    "era_league = (\n",
    "    pitching\n",
    "    .filter(pl.col('yearID') >= 1946)\n",
    "    .group_by('yearID', 'lgID')\n",
    "    .agg(runs = pl.col('R').sum(), outs = pl.col('IPouts').sum())\n",
    "    .with_columns(era = (pl.col('runs')/pl.col('outs'))*27)\n",
    "    .with_columns(dh_rule = pl.when(pl.col('yearID') < 1973).then(pl.lit('No')).otherwise(\n",
    "        pl.when(pl.col('yearID') >= 1973, pl.col('lgID') == pl.lit(\"AL\")).then(pl.lit('Yes')).otherwise(\n",
    "            pl.when(pl.col('yearID') >= 2022, pl.col('lgID') == pl.lit(\"NL\")).then(pl.lit('Yes')).otherwise(\n",
    "                pl.when(pl.col('yearID') == 2020).then(pl.lit('Yes')).otherwise(pl.lit('No'))\n",
    "            )\n",
    "        )\n",
    "    )\n",
    "                  )\n",
    ")\n",
    "\n",
    "era_league.head()"
   ]
  },
  {
   "cell_type": "code",
   "execution_count": 48,
   "id": "5b130d6a",
   "metadata": {},
   "outputs": [],
   "source": [
    "era_league.write_csv('./data/era_league.csv')"
   ]
  },
  {
   "cell_type": "markdown",
   "id": "edd245af",
   "metadata": {},
   "source": [
    "## Slugging Across Leagues"
   ]
  },
  {
   "cell_type": "code",
   "execution_count": null,
   "id": "6cfa1459",
   "metadata": {},
   "outputs": [
    {
     "name": "stderr",
     "output_type": "stream",
     "text": [
      "<>:1: SyntaxWarning: invalid escape sequence '\\d'\n",
      "<>:1: SyntaxWarning: invalid escape sequence '\\d'\n",
      "C:\\Users\\cv0437li\\AppData\\Local\\Temp\\ipykernel_18720\\4078803205.py:1: SyntaxWarning: invalid escape sequence '\\d'\n",
      "  batting = pl.read_csv('.\\data\\lahman_1871-2024_csv\\Batting.csv')\n"
     ]
    }
   ],
   "source": [
    "batting = pl.read_csv('.\\data\\lahman_1871-2024_csv\\Batting.csv')"
   ]
  },
  {
   "cell_type": "code",
   "execution_count": 54,
   "id": "d66a085b",
   "metadata": {},
   "outputs": [
    {
     "data": {
      "text/html": [
       "<div><style>\n",
       ".dataframe > thead > tr,\n",
       ".dataframe > tbody > tr {\n",
       "  text-align: right;\n",
       "  white-space: pre-wrap;\n",
       "}\n",
       "</style>\n",
       "<small>shape: (5, 9)</small><table border=\"1\" class=\"dataframe\"><thead><tr><th>yearID</th><th>lgID</th><th>single</th><th>double</th><th>triple</th><th>hr</th><th>at_bats</th><th>slugging</th><th>dh_rule</th></tr><tr><td>i64</td><td>str</td><td>i64</td><td>i64</td><td>i64</td><td>i64</td><td>i64</td><td>f64</td><td>str</td></tr></thead><tbody><tr><td>1963</td><td>&quot;NL&quot;</td><td>13434</td><td>1984</td><td>439</td><td>1215</td><td>54803</td><td>0.43025</td><td>&quot;No&quot;</td></tr><tr><td>2016</td><td>&quot;NL&quot;</td><td>20977</td><td>4100</td><td>502</td><td>2657</td><td>82635</td><td>0.499921</td><td>&quot;No&quot;</td></tr><tr><td>1950</td><td>&quot;AL&quot;</td><td>11474</td><td>1829</td><td>423</td><td>973</td><td>42407</td><td>0.478529</td><td>&quot;No&quot;</td></tr><tr><td>2023</td><td>&quot;AL&quot;</td><td>20314</td><td>4130</td><td>342</td><td>2925</td><td>82324</td><td>0.501676</td><td>&quot;Yes&quot;</td></tr><tr><td>1972</td><td>&quot;AL&quot;</td><td>14751</td><td>2260</td><td>316</td><td>1175</td><td>61712</td><td>0.403795</td><td>&quot;No&quot;</td></tr></tbody></table></div>"
      ],
      "text/plain": [
       "shape: (5, 9)\n",
       "┌────────┬──────┬────────┬────────┬───┬──────┬─────────┬──────────┬─────────┐\n",
       "│ yearID ┆ lgID ┆ single ┆ double ┆ … ┆ hr   ┆ at_bats ┆ slugging ┆ dh_rule │\n",
       "│ ---    ┆ ---  ┆ ---    ┆ ---    ┆   ┆ ---  ┆ ---     ┆ ---      ┆ ---     │\n",
       "│ i64    ┆ str  ┆ i64    ┆ i64    ┆   ┆ i64  ┆ i64     ┆ f64      ┆ str     │\n",
       "╞════════╪══════╪════════╪════════╪═══╪══════╪═════════╪══════════╪═════════╡\n",
       "│ 1963   ┆ NL   ┆ 13434  ┆ 1984   ┆ … ┆ 1215 ┆ 54803   ┆ 0.43025  ┆ No      │\n",
       "│ 2016   ┆ NL   ┆ 20977  ┆ 4100   ┆ … ┆ 2657 ┆ 82635   ┆ 0.499921 ┆ No      │\n",
       "│ 1950   ┆ AL   ┆ 11474  ┆ 1829   ┆ … ┆ 973  ┆ 42407   ┆ 0.478529 ┆ No      │\n",
       "│ 2023   ┆ AL   ┆ 20314  ┆ 4130   ┆ … ┆ 2925 ┆ 82324   ┆ 0.501676 ┆ Yes     │\n",
       "│ 1972   ┆ AL   ┆ 14751  ┆ 2260   ┆ … ┆ 1175 ┆ 61712   ┆ 0.403795 ┆ No      │\n",
       "└────────┴──────┴────────┴────────┴───┴──────┴─────────┴──────────┴─────────┘"
      ]
     },
     "execution_count": 54,
     "metadata": {},
     "output_type": "execute_result"
    }
   ],
   "source": [
    "slug = (\n",
    "    batting\n",
    "    .filter(pl.col('yearID') >= 1946)\n",
    "    .group_by('yearID', 'lgID')\n",
    "    .agg(single = pl.col('H').sum(), \n",
    "         double = pl.col('2B').sum(),\n",
    "         triple = pl.col('3B').sum(),\n",
    "         hr = pl.col('HR').sum(),\n",
    "         at_bats = pl.col('AB').sum(),\n",
    "         )\n",
    "    .with_columns(slugging = (pl.col('single')+2*pl.col('double')+3*pl.col('triple')+4*pl.col('hr'))/pl.col('at_bats'))\n",
    "    .with_columns(dh_rule = pl.when(pl.col('yearID') < 1973).then(pl.lit('No')).otherwise(\n",
    "        pl.when(pl.col('yearID') >= 1973, pl.col('lgID') == pl.lit(\"AL\")).then(pl.lit('Yes')).otherwise(\n",
    "            pl.when(pl.col('yearID') >= 2022, pl.col('lgID') == pl.lit(\"NL\")).then(pl.lit('Yes')).otherwise(\n",
    "                pl.when(pl.col('yearID') == 2020).then(pl.lit('Yes')).otherwise(pl.lit('No'))\n",
    "            )\n",
    "        )\n",
    "    )\n",
    "                  )\n",
    ")\n",
    "\n",
    "slug.head()"
   ]
  },
  {
   "cell_type": "code",
   "execution_count": 52,
   "id": "abbe29cf",
   "metadata": {},
   "outputs": [],
   "source": [
    "slug.write_csv('./data/slugging.csv')"
   ]
  }
 ],
 "metadata": {
  "kernelspec": {
   "display_name": "polars",
   "language": "python",
   "name": "python3"
  },
  "language_info": {
   "codemirror_mode": {
    "name": "ipython",
    "version": 3
   },
   "file_extension": ".py",
   "mimetype": "text/x-python",
   "name": "python",
   "nbconvert_exporter": "python",
   "pygments_lexer": "ipython3",
   "version": "3.13.5"
  }
 },
 "nbformat": 4,
 "nbformat_minor": 5
}
